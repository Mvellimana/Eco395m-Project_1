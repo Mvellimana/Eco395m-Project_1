{
 "cells": [
  {
   "cell_type": "code",
   "execution_count": 46,
   "id": "9ffcdf3b-402c-4777-b099-971e94d853a8",
   "metadata": {},
   "outputs": [],
   "source": [
    "import pandas as pd\n",
    "import numpy as np\n",
    "import matplotlib.pyplot as plt\n",
    "import geopandas as gpd\n",
    "from shapely.geometry import Point, Polygon\n",
    "import os\n",
    "from PIL import Image \n",
    "import glob\n",
    "\n",
    "%matplotlib inline"
   ]
  },
  {
   "cell_type": "code",
   "execution_count": 47,
   "id": "1b453b8e-1c7b-4d55-89df-8aaf65b4f056",
   "metadata": {},
   "outputs": [],
   "source": [
    "\"\"\"further cleaning f the raw data to suit analysis for mapping purpose\"\"\"\n",
    "df = pd.read_csv('Yelp_API_Data_Cleaned.csv')\n",
    "df.columns = [c.replace(' ', '_') for c in df.columns]\n",
    "df['price_level'] = df['price_level'].replace('$', 1)\n",
    "df['price_level'] = df['price_level'].replace('$$', 2)\n",
    "df['price_level'] = df['price_level'].replace('$$$', 3)\n",
    "df.Categories_merged = [c.replace(' ', '_') for c in df.Categories_merged]\n",
    "df.Categories_merged = [c.replace('/', '_') for c in df.Categories_merged]\n",
    "df = df.loc[df[\"Longitude\"] < -95]"
   ]
  },
  {
   "cell_type": "code",
   "execution_count": 48,
   "id": "e202ae36-bccd-4825-a15a-ab494f3002dd",
   "metadata": {},
   "outputs": [],
   "source": [
    "\"\"\"read the austin city map in shapefile format to establish a base for the points to be plotted on\"\"\"\n",
    "austin_map = gpd.read_file(os.path.join(os.getcwd(), 'austin_shapefile/geo_export_1ee4a6f6-dd8c-49f2-9aa6-8630506ef412.shp'))"
   ]
  },
  {
   "cell_type": "code",
   "execution_count": 49,
   "id": "9ac2158e-f396-4dc6-a70a-b57ec3c3926d",
   "metadata": {},
   "outputs": [
    {
     "name": "stderr",
     "output_type": "stream",
     "text": [
      "/home/sonali47/.local/lib/python3.8/site-packages/pyproj/crs/crs.py:141: FutureWarning: '+init=<authority>:<code>' syntax is deprecated. '<authority>:<code>' is the preferred initialization method. When making the change, be mindful of axis order changes: https://pyproj4.github.io/pyproj/stable/gotchas.html#axis-order-changes-in-proj-6\n",
      "  in_crs_string = _prepare_from_proj_string(in_crs_string)\n"
     ]
    }
   ],
   "source": [
    "\"\"\"convert the requisite dataframe into a geopandas compatible dataframe with long and lat\"\"\"\n",
    "crs = {'init': 'epsg:4326'}\n",
    "geometry = [Point(xy) for xy in zip(df[\"Longitude\"],df[\"Latitude\"])]\n",
    "geo_df = gpd.GeoDataFrame(df, crs=crs, geometry=geometry)"
   ]
  },
  {
   "cell_type": "code",
   "execution_count": 50,
   "id": "113fa40a-a226-4062-ba7f-9a804fdf68ab",
   "metadata": {},
   "outputs": [],
   "source": [
    "\"\"\"plot a graph fr every food category and save them using a loop\"\"\"\n",
    "list_of_categories = [\"American\",\n",
    "                      \"Mexican_South_American\",\n",
    "                      \"Bars_Pubs\",\n",
    "                      \"Asian\",\n",
    "                      \"Cafes_Juice_bars_Desserts\",\n",
    "                      \"Middle-eastern_Indian_African\",\n",
    "                      \"Pizza_European\",\n",
    "                      \"Food_Trucks_Food_Stands\",\n",
    "                      \"Specification_(Vegan_Glutenfree)\",\n",
    "                      \"food_delivery_services_groceries_venues_cafeterias\"]\n",
    "\n",
    "def plot_foodcategory(category):\n",
    "    fig,ax = plt.subplots(figsize = (15,15))\n",
    "    austin_map.plot(ax=ax, alpha=0.4, color=\"k\")\n",
    "    plot = geo_df[geo_df[\"Categories_merged\"] == category].plot(ax=ax, markersize=100, color=\"m\", marker=\"p\", label=str(category))\n",
    "    ax.set_title(\"Food Category = \" + str(category))\n",
    "    return ax,fig\n",
    "\n",
    "\n",
    "for category in list_of_categories:\n",
    "    ax, fig = plot_foodcategory(category)\n",
    "    fig.savefig('gif/{}.png'.format(category), \n",
    "              dpi=100, format='png', \n",
    "              bbox_inches='tight')\n",
    "    plt.close()"
   ]
  },
  {
   "cell_type": "code",
   "execution_count": 51,
   "id": "e9199c78-58ac-49db-ac15-1c17392d8c79",
   "metadata": {},
   "outputs": [],
   "source": [
    "\"\"\"write a code to merge the individual graph images into a gif\"\"\"\n",
    "frames = []\n",
    "imgs = glob.glob(\"gif/*.png\")\n",
    "for i in imgs:\n",
    "    new_frame = Image.open(i)\n",
    "    frames.append(new_frame)\n",
    " \n",
    "frames[0].save('gif/category.gif', format='GIF',\n",
    "               append_images=frames[1:],\n",
    "               save_all=True,\n",
    "               duration=1000, loop=0)"
   ]
  },
  {
   "cell_type": "code",
   "execution_count": null,
   "id": "98096180-c531-468a-94de-ee82bb1fcef5",
   "metadata": {},
   "outputs": [],
   "source": []
  }
 ],
 "metadata": {
  "kernelspec": {
   "display_name": "Python 3 (ipykernel)",
   "language": "python",
   "name": "python3"
  },
  "language_info": {
   "codemirror_mode": {
    "name": "ipython",
    "version": 3
   },
   "file_extension": ".py",
   "mimetype": "text/x-python",
   "name": "python",
   "nbconvert_exporter": "python",
   "pygments_lexer": "ipython3",
   "version": "3.8.2"
  }
 },
 "nbformat": 4,
 "nbformat_minor": 5
}
